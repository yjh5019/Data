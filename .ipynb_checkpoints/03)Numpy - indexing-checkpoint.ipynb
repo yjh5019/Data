{
 "cells": [
  {
   "cell_type": "markdown",
   "id": "797d1816",
   "metadata": {},
   "source": [
    "### 넘파이의 ndarray의 데이터 세트 선택하기 - 인덱싱(Indexing)\n",
    "*넘파이에서 ndarray내의 일부 데이터 셋이나 특정 데이터만을 선택 할 수 있도록 하는 인덱싱에 대한 알아보자\n",
    "#### 1.특정한 데이터만 추출\n",
    "#### 2.슬라이싱(Slicing)\n",
    "#### 3.팬시 인덱싱(Fancy Indexing)\n",
    "#### 4.불린 인덱싱(Boolean Indexing)"
   ]
  },
  {
   "cell_type": "code",
   "execution_count": 7,
   "id": "f6b8554c",
   "metadata": {},
   "outputs": [
    {
     "name": "stdout",
     "output_type": "stream",
     "text": [
      "Collecting numpy\n",
      "  Downloading numpy-1.24.1-cp310-cp310-win_amd64.whl (14.8 MB)\n",
      "     --------------------------------------- 14.8/14.8 MB 65.6 MB/s eta 0:00:00\n",
      "Installing collected packages: numpy\n",
      "Successfully installed numpy-1.24.1\n",
      "Note: you may need to restart the kernel to use updated packages.\n"
     ]
    }
   ],
   "source": [
    "pip install numpy"
   ]
  },
  {
   "cell_type": "code",
   "execution_count": 11,
   "id": "256e49c2",
   "metadata": {},
   "outputs": [],
   "source": [
    "import numpy as np"
   ]
  },
  {
   "cell_type": "code",
   "execution_count": 16,
   "id": "0b6032f7",
   "metadata": {},
   "outputs": [
    {
     "name": "stdout",
     "output_type": "stream",
     "text": [
      "vlaue :  9\n",
      "<class 'numpy.int32'>\n"
     ]
    }
   ],
   "source": [
    "# 1~9까지 1차원 ndarray 생성 -  np.arange\n",
    "array1 = np.arange(1,10)\n",
    "array1\n",
    "value = array1[-1]\n",
    "\n",
    "print('vlaue : ', value)\n",
    "print(type(value))"
   ]
  },
  {
   "cell_type": "code",
   "execution_count": 20,
   "id": "75e6c988",
   "metadata": {},
   "outputs": [
    {
     "name": "stdout",
     "output_type": "stream",
     "text": [
      "[[1 2 3]\n",
      " [4 5 6]\n",
      " [7 8 9]]\n"
     ]
    }
   ],
   "source": [
    "# array1을 2차원으로 변형\n",
    "\n",
    "array1d = array1.copy()\n",
    "array2d = array1d.reshape(3,3)\n",
    "print(array2d)"
   ]
  },
  {
   "cell_type": "code",
   "execution_count": 25,
   "id": "091ac7fd",
   "metadata": {},
   "outputs": [
    {
     "name": "stdout",
     "output_type": "stream",
     "text": [
      "(row = 0, col = 0) index 가리키는 값 : 1\n",
      "(row = 0, col = 0) index 가리키는 값 : 2\n"
     ]
    }
   ],
   "source": [
    "print('(row = 0, col = 0) index 가리키는 값 :',array2d[0,0])\n",
    "print('(row = 0, col = 0) index 가리키는 값 :',array2d[0][1])"
   ]
  },
  {
   "cell_type": "markdown",
   "id": "36ecd23d",
   "metadata": {},
   "source": [
    "## 2.슬라이싱(Slicing) - 2차원"
   ]
  },
  {
   "cell_type": "code",
   "execution_count": 44,
   "id": "d6a111b0",
   "metadata": {},
   "outputs": [
    {
     "name": "stdout",
     "output_type": "stream",
     "text": [
      "array2d[(0:3,0:2) : \n",
      "\n",
      " [[1 2]\n",
      " [4 5]\n",
      " [7 8]]\n",
      "array2d[(1:,0:3) : \n",
      "\n",
      " [[4 5 6]\n",
      " [7 8 9]]\n",
      "array2d[(1:,:) : \n",
      "\n",
      " [[4 5 6]\n",
      " [7 8 9]]\n"
     ]
    }
   ],
   "source": [
    "# print(array2d)  # 자르는게 슬라이싱임\n",
    "\n",
    "print('array2d[(0:3,0:2) : \\n\\n',array2d[0:3,0:2])\n",
    "print('array2d[(1:,0:3) : \\n\\n',array2d[1:,0:3])\n",
    "print('array2d[(1:,:) : \\n\\n',array2d[1:,:])"
   ]
  },
  {
   "cell_type": "code",
   "execution_count": 39,
   "id": "461ea4fc",
   "metadata": {},
   "outputs": [
    {
     "name": "stdout",
     "output_type": "stream",
     "text": [
      "[[1 2 3]\n",
      " [4 5 6]\n",
      " [7 8 9]]\n",
      "\n",
      "\n",
      "array2d[(:2,0) : \n",
      "\n",
      " [1 4]\n",
      "\n",
      "\n",
      "array2d[(:2,0:1) : \n",
      "\n",
      " [[1]\n",
      " [4]]\n"
     ]
    }
   ],
   "source": [
    "## question1\n",
    "print(array2d)\n",
    "print('\\n')\n",
    "print('array2d[(:2,0) : \\n\\n',array2d[:2,0])\n",
    "print('\\n')\n",
    "print('array2d[(:2,0:1) : \\n\\n',array2d[:2,0:1])"
   ]
  },
  {
   "cell_type": "markdown",
   "id": "51a531d7",
   "metadata": {},
   "source": [
    "## 3.팬시 인덱싱(Fancy Indexing)"
   ]
  },
  {
   "cell_type": "code",
   "execution_count": 46,
   "id": "8bb593f0",
   "metadata": {},
   "outputs": [
    {
     "name": "stdout",
     "output_type": "stream",
     "text": [
      "[[1 2 3]\n",
      " [4 5 6]\n",
      " [7 8 9]]\n"
     ]
    }
   ],
   "source": [
    "print(array2d)"
   ]
  },
  {
   "cell_type": "code",
   "execution_count": 73,
   "id": "4bb3e565",
   "metadata": {},
   "outputs": [
    {
     "data": {
      "text/plain": [
       "array([2, 6])"
      ]
     },
     "execution_count": 73,
     "metadata": {},
     "output_type": "execute_result"
    }
   ],
   "source": [
    "array2d[[0,1],[1,2]]"
   ]
  },
  {
   "cell_type": "code",
   "execution_count": 72,
   "id": "5455695b",
   "metadata": {},
   "outputs": [
    {
     "data": {
      "text/plain": [
       "array([4, 5])"
      ]
     },
     "execution_count": 72,
     "metadata": {},
     "output_type": "execute_result"
    }
   ],
   "source": [
    "array2d[0:2,2]\n",
    "\n",
    "\n",
    "array2d[[1,1],[0,1]]\n",
    "\n",
    "# array_11d.ndim"
   ]
  },
  {
   "cell_type": "code",
   "execution_count": 77,
   "id": "31a3208e",
   "metadata": {},
   "outputs": [
    {
     "data": {
      "text/plain": [
       "array([[4, 5, 6],\n",
       "       [4, 5, 6]])"
      ]
     },
     "execution_count": 77,
     "metadata": {},
     "output_type": "execute_result"
    }
   ],
   "source": [
    "array2d[[1,1]]"
   ]
  },
  {
   "cell_type": "code",
   "execution_count": 79,
   "id": "a199c6ce",
   "metadata": {},
   "outputs": [
    {
     "data": {
      "text/plain": [
       "array([6, 6])"
      ]
     },
     "execution_count": 79,
     "metadata": {},
     "output_type": "execute_result"
    }
   ],
   "source": [
    "array2d[[1,1],[2,2]]"
   ]
  },
  {
   "cell_type": "code",
   "execution_count": 57,
   "id": "daf61b6a",
   "metadata": {},
   "outputs": [
    {
     "data": {
      "text/plain": [
       "array([[3],\n",
       "       [6]])"
      ]
     },
     "execution_count": 57,
     "metadata": {},
     "output_type": "execute_result"
    }
   ],
   "source": [
    "array2d[[0,1],2:]\n",
    "\n",
    "# array_22d.ndim"
   ]
  },
  {
   "cell_type": "code",
   "execution_count": null,
   "id": "421de2b9",
   "metadata": {},
   "outputs": [],
   "source": []
  },
  {
   "cell_type": "code",
   "execution_count": null,
   "id": "87ea869d",
   "metadata": {},
   "outputs": [],
   "source": []
  },
  {
   "cell_type": "code",
   "execution_count": null,
   "id": "64090bb2",
   "metadata": {},
   "outputs": [],
   "source": []
  },
  {
   "cell_type": "code",
   "execution_count": null,
   "id": "948a815a",
   "metadata": {},
   "outputs": [],
   "source": []
  },
  {
   "cell_type": "code",
   "execution_count": null,
   "id": "388cff75",
   "metadata": {},
   "outputs": [],
   "source": []
  },
  {
   "cell_type": "code",
   "execution_count": null,
   "id": "db8c68f0",
   "metadata": {},
   "outputs": [],
   "source": []
  },
  {
   "cell_type": "code",
   "execution_count": null,
   "id": "d3925946",
   "metadata": {},
   "outputs": [],
   "source": []
  },
  {
   "cell_type": "code",
   "execution_count": null,
   "id": "af5b45ba",
   "metadata": {},
   "outputs": [],
   "source": []
  },
  {
   "cell_type": "code",
   "execution_count": null,
   "id": "6cbea780",
   "metadata": {},
   "outputs": [],
   "source": []
  },
  {
   "cell_type": "code",
   "execution_count": 19,
   "id": "aa58aa33",
   "metadata": {},
   "outputs": [
    {
     "ename": "NameError",
     "evalue": "name 'dd' is not defined",
     "output_type": "error",
     "traceback": [
      "\u001b[1;31m---------------------------------------------------------------------------\u001b[0m",
      "\u001b[1;31mNameError\u001b[0m                                 Traceback (most recent call last)",
      "Cell \u001b[1;32mIn[19], line 1\u001b[0m\n\u001b[1;32m----> 1\u001b[0m \u001b[43mdd\u001b[49m\n",
      "\u001b[1;31mNameError\u001b[0m: name 'dd' is not defined"
     ]
    }
   ],
   "source": []
  },
  {
   "cell_type": "code",
   "execution_count": null,
   "id": "c4fbecfb",
   "metadata": {},
   "outputs": [],
   "source": []
  }
 ],
 "metadata": {
  "kernelspec": {
   "display_name": "Python 3 (ipykernel)",
   "language": "python",
   "name": "python3"
  },
  "language_info": {
   "codemirror_mode": {
    "name": "ipython",
    "version": 3
   },
   "file_extension": ".py",
   "mimetype": "text/x-python",
   "name": "python",
   "nbconvert_exporter": "python",
   "pygments_lexer": "ipython3",
   "version": "3.10.9"
  }
 },
 "nbformat": 4,
 "nbformat_minor": 5
}

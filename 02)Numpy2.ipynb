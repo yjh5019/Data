{
 "cells": [
  {
   "cell_type": "markdown",
   "id": "781d8358",
   "metadata": {},
   "source": [
    "## 넘파이:ML 주요 알고리즘 -선형대수와 통계에 기반\n",
    "* Numpy는  Numerical Python을 의미하며 파이썬에서 선형대수 기반의 프로그램을 쉽게 만들 수 있도록 지원하는 대표 패키지\n",
    "* 루프를 사용치 않고 대량 데이터의 배열 연산이 가능\n",
    "* C/C++과 같은 저수준 언ㅡ어 기반의 호환 API제공"
   ]
  },
  {
   "cell_type": "code",
   "execution_count": 3,
   "id": "ad255e6e",
   "metadata": {},
   "outputs": [],
   "source": [
    "# 라이브러리 호출\n",
    "import numpy as np"
   ]
  },
  {
   "cell_type": "code",
   "execution_count": 13,
   "id": "87edada3",
   "metadata": {},
   "outputs": [
    {
     "name": "stdout",
     "output_type": "stream",
     "text": [
      "int32 [1 2 3] (3,)\n",
      "array_l1 type :  <class 'numpy.ndarray'>\n",
      "array_l1 shape :  (3,)\n"
     ]
    }
   ],
   "source": [
    "# array 생성\n",
    "l1 = [1,2,3]\n",
    "\n",
    "array_l1 = np.array(l1)\n",
    "print(array_l1.dtype,array_l1, array_l1.shape)\n",
    "print('array_l1 type : ',type(array_l1))\n",
    "print('array_l1 shape : ',array_l1.shape)"
   ]
  },
  {
   "cell_type": "code",
   "execution_count": 19,
   "id": "a9bece1f",
   "metadata": {},
   "outputs": [
    {
     "name": "stdout",
     "output_type": "stream",
     "text": [
      "array_l2 type :  <class 'numpy.ndarray'>\n",
      "array_l2 shape :  (2, 3)\n"
     ]
    }
   ],
   "source": [
    "# 차원 복습 --->2차원\n",
    "\n",
    "\n",
    "l2 = [[11,22,33],\n",
    "     [44,55,66]]\n",
    "\n",
    "array_l2 = np.array(l2)\n",
    "print('array_l2 type : ',type(array_l2))\n",
    "print('array_l2 shape : ',array_l2.shape)"
   ]
  },
  {
   "cell_type": "code",
   "execution_count": 20,
   "id": "737bead9",
   "metadata": {},
   "outputs": [
    {
     "name": "stdout",
     "output_type": "stream",
     "text": [
      "array_l2 type :  <class 'numpy.ndarray'>\n",
      "array_l2 shape :  (1, 3)\n"
     ]
    }
   ],
   "source": [
    "# 차원 복습 --->2차원\n",
    "\n",
    "l2 = [[11,22,33]]\n",
    "\n",
    "array_l2 = np.array(l2)\n",
    "print('array_l2 type : ',type(array_l2))\n",
    "print('array_l2 shape : ',array_l2.shape)"
   ]
  },
  {
   "cell_type": "code",
   "execution_count": 23,
   "id": "d70186c8",
   "metadata": {},
   "outputs": [
    {
     "name": "stdout",
     "output_type": "stream",
     "text": [
      "array_l3 type :  <class 'numpy.ndarray'>\n",
      "array_l3 shape :  (1, 2, 3)\n"
     ]
    }
   ],
   "source": [
    "# 차원 복습 --->3차원\n",
    "\n",
    "l3 = [[[11,22,33],[44,55,66]]]\n",
    "\n",
    "array_l3 = np.array(l3)\n",
    "print('array_l3 type : ',type(array_l3))\n",
    "print('array_l3 shape : ',array_l3.shape)"
   ]
  },
  {
   "cell_type": "code",
   "execution_count": 32,
   "id": "94d26af6",
   "metadata": {},
   "outputs": [
    {
     "name": "stdout",
     "output_type": "stream",
     "text": [
      "array_l3 type :  <class 'numpy.ndarray'>\n",
      "array_l3 shape :  (2, 2, 3)\n"
     ]
    }
   ],
   "source": [
    "# 차원 복습 --->3차원\n",
    "\n",
    "l3 = [\n",
    "    [\n",
    "        [11,22,33],[55,66,77]\n",
    "    ],\n",
    "    [\n",
    "        [44,55,66],[12,23,34]\n",
    "    ]\n",
    "]\n",
    "\n",
    "array_l3 = np.array(l3)\n",
    "print('array_l3 type : ',type(array_l3))\n",
    "print('array_l3 shape : ',array_l3.shape)"
   ]
  },
  {
   "cell_type": "markdown",
   "id": "530a865e",
   "metadata": {},
   "source": [
    "# ndarray를 편리하게 생성"
   ]
  },
  {
   "cell_type": "markdown",
   "id": "9063f01b",
   "metadata": {},
   "source": [
    "arange 활용"
   ]
  },
  {
   "cell_type": "code",
   "execution_count": 33,
   "id": "9a0e9ae1",
   "metadata": {},
   "outputs": [
    {
     "data": {
      "text/plain": [
       "array([3, 4, 5, 6, 7, 8, 9])"
      ]
     },
     "execution_count": 33,
     "metadata": {},
     "output_type": "execute_result"
    }
   ],
   "source": [
    "# 기본설정 디폴트 대로 활용\n",
    "sq_array = np.arange(10) # n-1 까지 총 9개가 생성\n",
    "\n",
    "sq_array\n",
    "\n",
    "# start 파라미터, stop 파라미터 활용\n",
    "sq_array2 = np.arange(3,10)\n",
    "sq_array2"
   ]
  },
  {
   "cell_type": "code",
   "execution_count": 34,
   "id": "8a3d340f",
   "metadata": {},
   "outputs": [
    {
     "name": "stdout",
     "output_type": "stream",
     "text": [
      "int32 (10,)\n"
     ]
    },
    {
     "data": {
      "text/plain": [
       "array([0, 1, 2, 3, 4, 5, 6, 7, 8, 9])"
      ]
     },
     "execution_count": 34,
     "metadata": {},
     "output_type": "execute_result"
    }
   ],
   "source": [
    "print(sq_array.dtype, sq_array.shape)\n",
    "sq_array"
   ]
  },
  {
   "cell_type": "markdown",
   "id": "1a7f0225",
   "metadata": {},
   "source": [
    "zeros 활용"
   ]
  },
  {
   "cell_type": "code",
   "execution_count": 41,
   "id": "e6f0d180",
   "metadata": {},
   "outputs": [
    {
     "name": "stdout",
     "output_type": "stream",
     "text": [
      "int32 (3, 2)\n"
     ]
    },
    {
     "data": {
      "text/plain": [
       "array([[0, 0],\n",
       "       [0, 0],\n",
       "       [0, 0]])"
      ]
     },
     "execution_count": 41,
     "metadata": {},
     "output_type": "execute_result"
    }
   ],
   "source": [
    "zero_array = np.zeros((3,2),dtype='int32')\n",
    "print(zero_array.dtype, zero_array.shape)\n",
    "zero_array"
   ]
  },
  {
   "cell_type": "markdown",
   "id": "06e3c13a",
   "metadata": {},
   "source": [
    "ones 활용"
   ]
  },
  {
   "cell_type": "code",
   "execution_count": 42,
   "id": "f5e15c61",
   "metadata": {},
   "outputs": [
    {
     "ename": "NameError",
     "evalue": "name 'oneso_array' is not defined",
     "output_type": "error",
     "traceback": [
      "\u001b[1;31m---------------------------------------------------------------------------\u001b[0m",
      "\u001b[1;31mNameError\u001b[0m                                 Traceback (most recent call last)",
      "\u001b[1;32m~\\AppData\\Local\\Temp\\ipykernel_10592\\1647836390.py\u001b[0m in \u001b[0;36m<module>\u001b[1;34m\u001b[0m\n\u001b[0;32m      1\u001b[0m \u001b[0mones_array\u001b[0m \u001b[1;33m=\u001b[0m \u001b[0mnp\u001b[0m\u001b[1;33m.\u001b[0m\u001b[0mones\u001b[0m\u001b[1;33m(\u001b[0m\u001b[1;33m(\u001b[0m\u001b[1;36m3\u001b[0m\u001b[1;33m,\u001b[0m\u001b[1;36m2\u001b[0m\u001b[1;33m)\u001b[0m\u001b[1;33m,\u001b[0m\u001b[0mdtype\u001b[0m\u001b[1;33m=\u001b[0m\u001b[1;34m'int32'\u001b[0m\u001b[1;33m)\u001b[0m\u001b[1;33m\u001b[0m\u001b[1;33m\u001b[0m\u001b[0m\n\u001b[1;32m----> 2\u001b[1;33m \u001b[0mprint\u001b[0m\u001b[1;33m(\u001b[0m\u001b[0mones_array\u001b[0m\u001b[1;33m.\u001b[0m\u001b[0mdtype\u001b[0m\u001b[1;33m,\u001b[0m \u001b[0moneso_array\u001b[0m\u001b[1;33m.\u001b[0m\u001b[0mshape\u001b[0m\u001b[1;33m)\u001b[0m\u001b[1;33m\u001b[0m\u001b[1;33m\u001b[0m\u001b[0m\n\u001b[0m\u001b[0;32m      3\u001b[0m \u001b[0mones_array\u001b[0m\u001b[1;33m\u001b[0m\u001b[1;33m\u001b[0m\u001b[0m\n",
      "\u001b[1;31mNameError\u001b[0m: name 'oneso_array' is not defined"
     ]
    }
   ],
   "source": [
    "ones_array = np.ones((3,2),dtype='int32')\n",
    "print(ones_array.dtype, oneso_array.shape)\n",
    "ones_array"
   ]
  },
  {
   "cell_type": "markdown",
   "id": "cc3ec357",
   "metadata": {},
   "source": [
    "reshape을 활용한 차원호환"
   ]
  },
  {
   "cell_type": "code",
   "execution_count": 44,
   "id": "825af82d",
   "metadata": {},
   "outputs": [
    {
     "data": {
      "text/plain": [
       "array([ 1,  2,  3,  4,  5,  6,  7,  8,  9, 10])"
      ]
     },
     "execution_count": 44,
     "metadata": {},
     "output_type": "execute_result"
    }
   ],
   "source": [
    "sqr_array = np.arange(1,11)\n",
    "sqr_array"
   ]
  },
  {
   "cell_type": "code",
   "execution_count": 45,
   "id": "192ee7c4",
   "metadata": {},
   "outputs": [
    {
     "data": {
      "text/plain": [
       "array([[ 1,  2,  3,  4,  5],\n",
       "       [ 6,  7,  8,  9, 10]])"
      ]
     },
     "execution_count": 45,
     "metadata": {},
     "output_type": "execute_result"
    }
   ],
   "source": [
    "sqr_array.reshape(2,5)"
   ]
  },
  {
   "cell_type": "code",
   "execution_count": 48,
   "id": "70c0c185",
   "metadata": {},
   "outputs": [
    {
     "data": {
      "text/plain": [
       "array([[ 1],\n",
       "       [ 2],\n",
       "       [ 3],\n",
       "       [ 4],\n",
       "       [ 5],\n",
       "       [ 6],\n",
       "       [ 7],\n",
       "       [ 8],\n",
       "       [ 9],\n",
       "       [10]])"
      ]
     },
     "execution_count": 48,
     "metadata": {},
     "output_type": "execute_result"
    }
   ],
   "source": [
    "sqr_array2d = sqr_array.reshape(2,5)\n",
    "sqr_array2d.reshape(-1,1)"
   ]
  },
  {
   "cell_type": "code",
   "execution_count": 55,
   "id": "0dc65edb",
   "metadata": {},
   "outputs": [],
   "source": [
    "# 3차원\n",
    "sqr_array3 = np.arange(1,9)\n",
    "sqr_array3d = sqr_array3.reshape(2,2,2)"
   ]
  },
  {
   "cell_type": "code",
   "execution_count": 56,
   "id": "a5486b4e",
   "metadata": {},
   "outputs": [
    {
     "data": {
      "text/plain": [
       "array([[[1, 2],\n",
       "        [3, 4]],\n",
       "\n",
       "       [[5, 6],\n",
       "        [7, 8]]])"
      ]
     },
     "execution_count": 56,
     "metadata": {},
     "output_type": "execute_result"
    }
   ],
   "source": [
    "# sqr_array3d -> 1d로 바꾸는 과정"
   ]
  },
  {
   "cell_type": "code",
   "execution_count": 63,
   "id": "6e69e955",
   "metadata": {},
   "outputs": [
    {
     "data": {
      "text/plain": [
       "[[1, 2, 3, 4], [5, 6, 7, 8]]"
      ]
     },
     "execution_count": 63,
     "metadata": {},
     "output_type": "execute_result"
    }
   ],
   "source": [
    "sqr_array2d = sqr_array3d.reshape(2,-1)\n",
    "sql_l2 = sqr_array2d.tolist() # 리스트로 바꾸는법\n",
    "sql_l2"
   ]
  },
  {
   "cell_type": "code",
   "execution_count": null,
   "id": "adea387c",
   "metadata": {},
   "outputs": [],
   "source": [
    "# end of file"
   ]
  }
 ],
 "metadata": {
  "kernelspec": {
   "display_name": "Python 3 (ipykernel)",
   "language": "python",
   "name": "python3"
  },
  "language_info": {
   "codemirror_mode": {
    "name": "ipython",
    "version": 3
   },
   "file_extension": ".py",
   "mimetype": "text/x-python",
   "name": "python",
   "nbconvert_exporter": "python",
   "pygments_lexer": "ipython3",
   "version": "3.9.13"
  }
 },
 "nbformat": 4,
 "nbformat_minor": 5
}
